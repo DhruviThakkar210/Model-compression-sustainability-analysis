{
  "nbformat": 4,
  "nbformat_minor": 0,
  "metadata": {
    "colab": {
      "provenance": [],
      "gpuType": "T4"
    },
    "kernelspec": {
      "name": "python3",
      "display_name": "Python 3"
    },
    "language_info": {
      "name": "python"
    },
    "accelerator": "GPU"
  },
  "cells": [
    {
      "cell_type": "markdown",
      "source": [],
      "metadata": {
        "id": "4Gp_XJ1NTwht"
      }
    },
    {
      "cell_type": "code",
      "source": [
        "!pip install codecarbon\n"
      ],
      "metadata": {
        "colab": {
          "base_uri": "https://localhost:8080/"
        },
        "id": "yAsGE2yKJPkL",
        "outputId": "4d7db10a-fd84-40e2-a9d4-7b92a30afa12"
      },
      "execution_count": null,
      "outputs": [
        {
          "output_type": "stream",
          "name": "stdout",
          "text": [
            "Requirement already satisfied: codecarbon in /usr/local/lib/python3.12/dist-packages (3.0.7)\n",
            "Requirement already satisfied: arrow in /usr/local/lib/python3.12/dist-packages (from codecarbon) (1.4.0)\n",
            "Requirement already satisfied: click in /usr/local/lib/python3.12/dist-packages (from codecarbon) (8.3.0)\n",
            "Requirement already satisfied: fief-client[cli] in /usr/local/lib/python3.12/dist-packages (from codecarbon) (0.20.0)\n",
            "Requirement already satisfied: pandas in /usr/local/lib/python3.12/dist-packages (from codecarbon) (2.2.2)\n",
            "Requirement already satisfied: prometheus_client in /usr/local/lib/python3.12/dist-packages (from codecarbon) (0.23.1)\n",
            "Requirement already satisfied: psutil>=6.0.0 in /usr/local/lib/python3.12/dist-packages (from codecarbon) (7.1.1)\n",
            "Requirement already satisfied: py-cpuinfo in /usr/local/lib/python3.12/dist-packages (from codecarbon) (9.0.0)\n",
            "Requirement already satisfied: pydantic in /usr/local/lib/python3.12/dist-packages (from codecarbon) (2.11.10)\n",
            "Requirement already satisfied: nvidia-ml-py in /usr/local/lib/python3.12/dist-packages (from codecarbon) (12.575.51)\n",
            "Requirement already satisfied: rapidfuzz in /usr/local/lib/python3.12/dist-packages (from codecarbon) (3.14.1)\n",
            "Requirement already satisfied: requests in /usr/local/lib/python3.12/dist-packages (from codecarbon) (2.32.4)\n",
            "Requirement already satisfied: questionary in /usr/local/lib/python3.12/dist-packages (from codecarbon) (2.1.1)\n",
            "Requirement already satisfied: rich in /usr/local/lib/python3.12/dist-packages (from codecarbon) (13.9.4)\n",
            "Requirement already satisfied: typer in /usr/local/lib/python3.12/dist-packages (from codecarbon) (0.20.0)\n",
            "Requirement already satisfied: python-dateutil>=2.7.0 in /usr/local/lib/python3.12/dist-packages (from arrow->codecarbon) (2.9.0.post0)\n",
            "Requirement already satisfied: tzdata in /usr/local/lib/python3.12/dist-packages (from arrow->codecarbon) (2025.2)\n",
            "Requirement already satisfied: httpx<0.28.0,>=0.21.3 in /usr/local/lib/python3.12/dist-packages (from fief-client[cli]->codecarbon) (0.27.2)\n",
            "Requirement already satisfied: jwcrypto<2.0.0,>=1.4 in /usr/local/lib/python3.12/dist-packages (from fief-client[cli]->codecarbon) (1.5.6)\n",
            "Requirement already satisfied: yaspin in /usr/local/lib/python3.12/dist-packages (from fief-client[cli]->codecarbon) (3.3.0)\n",
            "Requirement already satisfied: numpy>=1.26.0 in /usr/local/lib/python3.12/dist-packages (from pandas->codecarbon) (2.0.2)\n",
            "Requirement already satisfied: pytz>=2020.1 in /usr/local/lib/python3.12/dist-packages (from pandas->codecarbon) (2025.2)\n",
            "Requirement already satisfied: annotated-types>=0.6.0 in /usr/local/lib/python3.12/dist-packages (from pydantic->codecarbon) (0.7.0)\n",
            "Requirement already satisfied: pydantic-core==2.33.2 in /usr/local/lib/python3.12/dist-packages (from pydantic->codecarbon) (2.33.2)\n",
            "Requirement already satisfied: typing-extensions>=4.12.2 in /usr/local/lib/python3.12/dist-packages (from pydantic->codecarbon) (4.15.0)\n",
            "Requirement already satisfied: typing-inspection>=0.4.0 in /usr/local/lib/python3.12/dist-packages (from pydantic->codecarbon) (0.4.2)\n",
            "Requirement already satisfied: prompt_toolkit<4.0,>=2.0 in /usr/local/lib/python3.12/dist-packages (from questionary->codecarbon) (3.0.52)\n",
            "Requirement already satisfied: charset_normalizer<4,>=2 in /usr/local/lib/python3.12/dist-packages (from requests->codecarbon) (3.4.4)\n",
            "Requirement already satisfied: idna<4,>=2.5 in /usr/local/lib/python3.12/dist-packages (from requests->codecarbon) (3.11)\n",
            "Requirement already satisfied: urllib3<3,>=1.21.1 in /usr/local/lib/python3.12/dist-packages (from requests->codecarbon) (2.5.0)\n",
            "Requirement already satisfied: certifi>=2017.4.17 in /usr/local/lib/python3.12/dist-packages (from requests->codecarbon) (2025.10.5)\n",
            "Requirement already satisfied: markdown-it-py>=2.2.0 in /usr/local/lib/python3.12/dist-packages (from rich->codecarbon) (4.0.0)\n",
            "Requirement already satisfied: pygments<3.0.0,>=2.13.0 in /usr/local/lib/python3.12/dist-packages (from rich->codecarbon) (2.19.2)\n",
            "Requirement already satisfied: shellingham>=1.3.0 in /usr/local/lib/python3.12/dist-packages (from typer->codecarbon) (1.5.4)\n",
            "Requirement already satisfied: anyio in /usr/local/lib/python3.12/dist-packages (from httpx<0.28.0,>=0.21.3->fief-client[cli]->codecarbon) (4.11.0)\n",
            "Requirement already satisfied: httpcore==1.* in /usr/local/lib/python3.12/dist-packages (from httpx<0.28.0,>=0.21.3->fief-client[cli]->codecarbon) (1.0.9)\n",
            "Requirement already satisfied: sniffio in /usr/local/lib/python3.12/dist-packages (from httpx<0.28.0,>=0.21.3->fief-client[cli]->codecarbon) (1.3.1)\n",
            "Requirement already satisfied: h11>=0.16 in /usr/local/lib/python3.12/dist-packages (from httpcore==1.*->httpx<0.28.0,>=0.21.3->fief-client[cli]->codecarbon) (0.16.0)\n",
            "Requirement already satisfied: cryptography>=3.4 in /usr/local/lib/python3.12/dist-packages (from jwcrypto<2.0.0,>=1.4->fief-client[cli]->codecarbon) (43.0.3)\n",
            "Requirement already satisfied: mdurl~=0.1 in /usr/local/lib/python3.12/dist-packages (from markdown-it-py>=2.2.0->rich->codecarbon) (0.1.2)\n",
            "Requirement already satisfied: wcwidth in /usr/local/lib/python3.12/dist-packages (from prompt_toolkit<4.0,>=2.0->questionary->codecarbon) (0.2.14)\n",
            "Requirement already satisfied: six>=1.5 in /usr/local/lib/python3.12/dist-packages (from python-dateutil>=2.7.0->arrow->codecarbon) (1.17.0)\n",
            "Requirement already satisfied: termcolor<4.0,>=3.1 in /usr/local/lib/python3.12/dist-packages (from yaspin->fief-client[cli]->codecarbon) (3.1.0)\n",
            "Requirement already satisfied: cffi>=1.12 in /usr/local/lib/python3.12/dist-packages (from cryptography>=3.4->jwcrypto<2.0.0,>=1.4->fief-client[cli]->codecarbon) (2.0.0)\n",
            "Requirement already satisfied: pycparser in /usr/local/lib/python3.12/dist-packages (from cffi>=1.12->cryptography>=3.4->jwcrypto<2.0.0,>=1.4->fief-client[cli]->codecarbon) (2.23)\n"
          ]
        }
      ]
    },
    {
      "cell_type": "code",
      "source": [
        "# ===============================================================\n",
        "# BASELINE MODEL BLOCK (Clean version)\n",
        "# ===============================================================\n",
        "\n",
        "from codecarbon import EmissionsTracker\n",
        "from transformers import AutoModelForCausalLM, AutoTokenizer\n",
        "import torch, time, csv, os\n",
        "from datetime import datetime\n",
        "\n",
        "device = \"cuda\" if torch.cuda.is_available() else \"cpu\"\n",
        "print(\"Running on:\", device)\n",
        "\n",
        "# === CONFIG ===\n",
        "model_name = \"deepseek-ai/deepseek-coder-1.3b-base\"\n",
        "output_dir = \"/content/results\"\n",
        "os.makedirs(output_dir, exist_ok=True)\n",
        "csv_path = os.path.join(output_dir, \"baseline_results.csv\")\n",
        "\n",
        "# === HELPER FUNCTIONS ===\n",
        "def evaluate_accuracy(text):\n",
        "    checks = ['\"\"\"', \"Args:\", \"Returns:\"]\n",
        "    return \"P\" if all(x in text for x in checks) else \"F\"\n",
        "\n",
        "def get_model_size_mb(model):\n",
        "    torch.save(model.state_dict(), \"temp.pt\")\n",
        "    size = os.path.getsize(\"temp.pt\") / (1024 * 1024)\n",
        "    os.remove(\"temp.pt\")\n",
        "    return round(size, 2)\n",
        "\n",
        "def run_inference(model, tokenizer, prompt):\n",
        "    inputs = tokenizer(prompt, return_tensors=\"pt\").to(device)\n",
        "    start = time.perf_counter()\n",
        "    with torch.no_grad():\n",
        "        output = model.generate(\n",
        "            **inputs,\n",
        "            max_new_tokens=200,\n",
        "            temperature=0.3,\n",
        "            do_sample=False,\n",
        "            pad_token_id=tokenizer.eos_token_id\n",
        "        )\n",
        "    latency = round(time.perf_counter() - start, 3)\n",
        "    text = tokenizer.decode(output[0], skip_special_tokens=True)\n",
        "    return text, latency\n",
        "\n",
        "# === BASELINE TASK PROMPT ===\n",
        "code_sample = \"\"\"from typing import List\n",
        "def below_zero(operations: List[int]) -> bool:\n",
        "    balance = 0\n",
        "    for op in operations:\n",
        "        balance += op\n",
        "        if balance < 0:\n",
        "            return True\n",
        "    return False\n",
        "\"\"\"\n",
        "\n",
        "prompt_text = (\n",
        "    \"You are an expert Python developer. \"\n",
        "    \"Given the function below, generate a complete and well-formatted Google-style docstring. \"\n",
        "    \"Include purpose, parameters, returns, and one example. \"\n",
        "    \"Provide only the full function code with the docstring.\\n\\n\"\n",
        "    f\"{code_sample}\"\n",
        ")\n",
        "\n",
        "# === LOAD MODEL ===\n",
        "tokenizer = AutoTokenizer.from_pretrained(model_name)\n",
        "model = AutoModelForCausalLM.from_pretrained(model_name).to(device)\n",
        "\n",
        "# === RUN BASELINE EXPERIMENT ===\n",
        "EPOCHS = 5\n",
        "\n",
        "if not os.path.exists(csv_path):\n",
        "    with open(csv_path, \"w\", newline=\"\") as f:\n",
        "        writer = csv.writer(f)\n",
        "        writer.writerow([\"Model\", \"Compression\", \"Epoch\", \"CO2_kg\", \"Latency_s\", \"Model_Size_MB\", \"Accuracy\", \"Timestamp\"])\n",
        "\n",
        "for epoch in range(1, EPOCHS + 1):\n",
        "    print(f\"\\n🚀 Epoch {epoch}...\")\n",
        "    tracker = EmissionsTracker(project_name=\"Baseline\", output_dir=output_dir)\n",
        "    tracker.start()\n",
        "\n",
        "    generated, latency = run_inference(model, tokenizer, prompt_text)\n",
        "    co2 = tracker.stop()\n",
        "\n",
        "    size = get_model_size_mb(model)\n",
        "    acc = evaluate_accuracy(generated)\n",
        "\n",
        "    with open(csv_path, \"a\", newline=\"\") as f:\n",
        "        csv.writer(f).writerow(\n",
        "            [\"Baseline\", \"None\", epoch, co2, latency, size, acc, datetime.now()]\n",
        "        )\n",
        "\n",
        "print(f\"\\n✅ Baseline experiment complete. Results saved to: {csv_path}\")\n"
      ],
      "metadata": {
        "colab": {
          "base_uri": "https://localhost:8080/"
        },
        "id": "iLyoOF21O0P5",
        "outputId": "98d73795-9891-4651-d45a-8de43e59e011"
      },
      "execution_count": null,
      "outputs": [
        {
          "output_type": "stream",
          "name": "stdout",
          "text": [
            "Running on: cuda\n"
          ]
        },
        {
          "output_type": "stream",
          "name": "stderr",
          "text": [
            "[codecarbon WARNING @ 17:19:39] Multiple instances of codecarbon are allowed to run at the same time.\n",
            "[codecarbon INFO @ 17:19:39] [setup] RAM Tracking...\n",
            "[codecarbon INFO @ 17:19:39] [setup] CPU Tracking...\n"
          ]
        },
        {
          "output_type": "stream",
          "name": "stdout",
          "text": [
            "\n",
            "🚀 Epoch 1...\n"
          ]
        },
        {
          "output_type": "stream",
          "name": "stderr",
          "text": [
            "[codecarbon WARNING @ 17:19:40] We saw that you have a Intel(R) Xeon(R) CPU @ 2.00GHz but we don't know it. Please contact us.\n",
            "[codecarbon WARNING @ 17:19:40] No CPU tracking mode found. Falling back on estimation based on TDP for CPU. \n",
            " Linux OS detected: Please ensure RAPL files exist at /sys/class/powercap/intel-rapl/subsystem to measure CPU\n",
            "\n",
            "[codecarbon INFO @ 17:19:40] CPU Model on constant consumption mode: Intel(R) Xeon(R) CPU @ 2.00GHz\n",
            "[codecarbon WARNING @ 17:19:40] No CPU tracking mode found. Falling back on CPU constant mode.\n",
            "[codecarbon INFO @ 17:19:40] [setup] GPU Tracking...\n",
            "[codecarbon INFO @ 17:19:40] Tracking Nvidia GPU via pynvml\n",
            "[codecarbon INFO @ 17:19:40] The below tracking methods have been set up:\n",
            "                RAM Tracking Method: RAM power estimation model\n",
            "                CPU Tracking Method: global constant\n",
            "                GPU Tracking Method: pynvml\n",
            "            \n",
            "[codecarbon INFO @ 17:19:40] >>> Tracker's metadata:\n",
            "[codecarbon INFO @ 17:19:40]   Platform system: Linux-6.6.105+-x86_64-with-glibc2.35\n",
            "[codecarbon INFO @ 17:19:40]   Python version: 3.12.12\n",
            "[codecarbon INFO @ 17:19:40]   CodeCarbon version: 3.0.7\n",
            "[codecarbon INFO @ 17:19:40]   Available RAM : 12.671 GB\n",
            "[codecarbon INFO @ 17:19:40]   CPU count: 2 thread(s) in 1 physical CPU(s)\n",
            "[codecarbon INFO @ 17:19:40]   CPU model: Intel(R) Xeon(R) CPU @ 2.00GHz\n",
            "[codecarbon INFO @ 17:19:40]   GPU count: 1\n",
            "[codecarbon INFO @ 17:19:40]   GPU model: 1 x Tesla T4\n",
            "[codecarbon INFO @ 17:19:41] Emissions data (if any) will be saved to file /content/results/emissions.csv\n",
            "[codecarbon INFO @ 17:19:46] Energy consumed for RAM : 0.000016 kWh. RAM Power : 10.0 W\n",
            "[codecarbon INFO @ 17:19:46] Delta energy consumed for CPU with constant : 0.000068 kWh, power : 42.5 W\n",
            "[codecarbon INFO @ 17:19:46] Energy consumed for All CPU : 0.000068 kWh\n",
            "[codecarbon INFO @ 17:19:46] Energy consumed for all GPUs : 0.000110 kWh. Total GPU Power : 68.76152745722177 W\n",
            "[codecarbon INFO @ 17:19:46] 0.000194 kWh of electricity used since the beginning.\n",
            "[codecarbon WARNING @ 17:22:10] Multiple instances of codecarbon are allowed to run at the same time.\n",
            "[codecarbon INFO @ 17:22:10] [setup] RAM Tracking...\n",
            "[codecarbon INFO @ 17:22:10] [setup] CPU Tracking...\n"
          ]
        },
        {
          "output_type": "stream",
          "name": "stdout",
          "text": [
            "\n",
            "🚀 Epoch 2...\n"
          ]
        },
        {
          "output_type": "stream",
          "name": "stderr",
          "text": [
            "[codecarbon WARNING @ 17:22:11] We saw that you have a Intel(R) Xeon(R) CPU @ 2.00GHz but we don't know it. Please contact us.\n",
            "[codecarbon WARNING @ 17:22:11] No CPU tracking mode found. Falling back on estimation based on TDP for CPU. \n",
            " Linux OS detected: Please ensure RAPL files exist at /sys/class/powercap/intel-rapl/subsystem to measure CPU\n",
            "\n",
            "[codecarbon INFO @ 17:22:11] CPU Model on constant consumption mode: Intel(R) Xeon(R) CPU @ 2.00GHz\n",
            "[codecarbon WARNING @ 17:22:11] No CPU tracking mode found. Falling back on CPU constant mode.\n",
            "[codecarbon INFO @ 17:22:11] [setup] GPU Tracking...\n",
            "[codecarbon INFO @ 17:22:11] Tracking Nvidia GPU via pynvml\n",
            "[codecarbon INFO @ 17:22:11] The below tracking methods have been set up:\n",
            "                RAM Tracking Method: RAM power estimation model\n",
            "                CPU Tracking Method: global constant\n",
            "                GPU Tracking Method: pynvml\n",
            "            \n",
            "[codecarbon INFO @ 17:22:11] >>> Tracker's metadata:\n",
            "[codecarbon INFO @ 17:22:11]   Platform system: Linux-6.6.105+-x86_64-with-glibc2.35\n",
            "[codecarbon INFO @ 17:22:11]   Python version: 3.12.12\n",
            "[codecarbon INFO @ 17:22:11]   CodeCarbon version: 3.0.7\n",
            "[codecarbon INFO @ 17:22:11]   Available RAM : 12.671 GB\n",
            "[codecarbon INFO @ 17:22:11]   CPU count: 2 thread(s) in 1 physical CPU(s)\n",
            "[codecarbon INFO @ 17:22:11]   CPU model: Intel(R) Xeon(R) CPU @ 2.00GHz\n",
            "[codecarbon INFO @ 17:22:11]   GPU count: 1\n",
            "[codecarbon INFO @ 17:22:11]   GPU model: 1 x Tesla T4\n",
            "[codecarbon INFO @ 17:22:11] Emissions data (if any) will be saved to file /content/results/emissions.csv\n",
            "[codecarbon INFO @ 17:22:17] Energy consumed for RAM : 0.000015 kWh. RAM Power : 10.0 W\n",
            "[codecarbon INFO @ 17:22:17] Delta energy consumed for CPU with constant : 0.000065 kWh, power : 42.5 W\n",
            "[codecarbon INFO @ 17:22:17] Energy consumed for All CPU : 0.000065 kWh\n",
            "[codecarbon INFO @ 17:22:17] Energy consumed for all GPUs : 0.000106 kWh. Total GPU Power : 69.00279414027453 W\n",
            "[codecarbon INFO @ 17:22:17] 0.000186 kWh of electricity used since the beginning.\n",
            "[codecarbon WARNING @ 17:24:47] Multiple instances of codecarbon are allowed to run at the same time.\n",
            "[codecarbon INFO @ 17:24:47] [setup] RAM Tracking...\n",
            "[codecarbon INFO @ 17:24:47] [setup] CPU Tracking...\n"
          ]
        },
        {
          "output_type": "stream",
          "name": "stdout",
          "text": [
            "\n",
            "🚀 Epoch 3...\n"
          ]
        },
        {
          "output_type": "stream",
          "name": "stderr",
          "text": [
            "[codecarbon WARNING @ 17:24:48] We saw that you have a Intel(R) Xeon(R) CPU @ 2.00GHz but we don't know it. Please contact us.\n",
            "[codecarbon WARNING @ 17:24:48] No CPU tracking mode found. Falling back on estimation based on TDP for CPU. \n",
            " Linux OS detected: Please ensure RAPL files exist at /sys/class/powercap/intel-rapl/subsystem to measure CPU\n",
            "\n",
            "[codecarbon INFO @ 17:24:48] CPU Model on constant consumption mode: Intel(R) Xeon(R) CPU @ 2.00GHz\n",
            "[codecarbon WARNING @ 17:24:48] No CPU tracking mode found. Falling back on CPU constant mode.\n",
            "[codecarbon INFO @ 17:24:48] [setup] GPU Tracking...\n",
            "[codecarbon INFO @ 17:24:48] Tracking Nvidia GPU via pynvml\n",
            "[codecarbon INFO @ 17:24:48] The below tracking methods have been set up:\n",
            "                RAM Tracking Method: RAM power estimation model\n",
            "                CPU Tracking Method: global constant\n",
            "                GPU Tracking Method: pynvml\n",
            "            \n",
            "[codecarbon INFO @ 17:24:48] >>> Tracker's metadata:\n",
            "[codecarbon INFO @ 17:24:48]   Platform system: Linux-6.6.105+-x86_64-with-glibc2.35\n",
            "[codecarbon INFO @ 17:24:48]   Python version: 3.12.12\n",
            "[codecarbon INFO @ 17:24:48]   CodeCarbon version: 3.0.7\n",
            "[codecarbon INFO @ 17:24:48]   Available RAM : 12.671 GB\n",
            "[codecarbon INFO @ 17:24:48]   CPU count: 2 thread(s) in 1 physical CPU(s)\n",
            "[codecarbon INFO @ 17:24:48]   CPU model: Intel(R) Xeon(R) CPU @ 2.00GHz\n",
            "[codecarbon INFO @ 17:24:48]   GPU count: 1\n",
            "[codecarbon INFO @ 17:24:48]   GPU model: 1 x Tesla T4\n",
            "[codecarbon INFO @ 17:24:48] Emissions data (if any) will be saved to file /content/results/emissions.csv\n",
            "[codecarbon INFO @ 17:24:54] Energy consumed for RAM : 0.000015 kWh. RAM Power : 10.0 W\n",
            "[codecarbon INFO @ 17:24:54] Delta energy consumed for CPU with constant : 0.000065 kWh, power : 42.5 W\n",
            "[codecarbon INFO @ 17:24:54] Energy consumed for All CPU : 0.000065 kWh\n",
            "[codecarbon INFO @ 17:24:54] Energy consumed for all GPUs : 0.000105 kWh. Total GPU Power : 68.6136330359369 W\n",
            "[codecarbon INFO @ 17:24:54] 0.000186 kWh of electricity used since the beginning.\n",
            "[codecarbon WARNING @ 17:27:16] Multiple instances of codecarbon are allowed to run at the same time.\n",
            "[codecarbon INFO @ 17:27:16] [setup] RAM Tracking...\n",
            "[codecarbon INFO @ 17:27:16] [setup] CPU Tracking...\n"
          ]
        },
        {
          "output_type": "stream",
          "name": "stdout",
          "text": [
            "\n",
            "🚀 Epoch 4...\n"
          ]
        },
        {
          "output_type": "stream",
          "name": "stderr",
          "text": [
            "[codecarbon WARNING @ 17:27:17] We saw that you have a Intel(R) Xeon(R) CPU @ 2.00GHz but we don't know it. Please contact us.\n",
            "[codecarbon WARNING @ 17:27:17] No CPU tracking mode found. Falling back on estimation based on TDP for CPU. \n",
            " Linux OS detected: Please ensure RAPL files exist at /sys/class/powercap/intel-rapl/subsystem to measure CPU\n",
            "\n",
            "[codecarbon INFO @ 17:27:17] CPU Model on constant consumption mode: Intel(R) Xeon(R) CPU @ 2.00GHz\n",
            "[codecarbon WARNING @ 17:27:17] No CPU tracking mode found. Falling back on CPU constant mode.\n",
            "[codecarbon INFO @ 17:27:17] [setup] GPU Tracking...\n",
            "[codecarbon INFO @ 17:27:17] Tracking Nvidia GPU via pynvml\n",
            "[codecarbon INFO @ 17:27:17] The below tracking methods have been set up:\n",
            "                RAM Tracking Method: RAM power estimation model\n",
            "                CPU Tracking Method: global constant\n",
            "                GPU Tracking Method: pynvml\n",
            "            \n",
            "[codecarbon INFO @ 17:27:17] >>> Tracker's metadata:\n",
            "[codecarbon INFO @ 17:27:17]   Platform system: Linux-6.6.105+-x86_64-with-glibc2.35\n",
            "[codecarbon INFO @ 17:27:17]   Python version: 3.12.12\n",
            "[codecarbon INFO @ 17:27:17]   CodeCarbon version: 3.0.7\n",
            "[codecarbon INFO @ 17:27:17]   Available RAM : 12.671 GB\n",
            "[codecarbon INFO @ 17:27:17]   CPU count: 2 thread(s) in 1 physical CPU(s)\n",
            "[codecarbon INFO @ 17:27:17]   CPU model: Intel(R) Xeon(R) CPU @ 2.00GHz\n",
            "[codecarbon INFO @ 17:27:17]   GPU count: 1\n",
            "[codecarbon INFO @ 17:27:17]   GPU model: 1 x Tesla T4\n",
            "[codecarbon INFO @ 17:27:18] Emissions data (if any) will be saved to file /content/results/emissions.csv\n",
            "[codecarbon INFO @ 17:27:23] Energy consumed for RAM : 0.000015 kWh. RAM Power : 10.0 W\n",
            "[codecarbon INFO @ 17:27:23] Delta energy consumed for CPU with constant : 0.000065 kWh, power : 42.5 W\n",
            "[codecarbon INFO @ 17:27:23] Energy consumed for All CPU : 0.000065 kWh\n",
            "[codecarbon INFO @ 17:27:23] Energy consumed for all GPUs : 0.000106 kWh. Total GPU Power : 69.35722101780189 W\n",
            "[codecarbon INFO @ 17:27:23] 0.000185 kWh of electricity used since the beginning.\n",
            "[codecarbon WARNING @ 17:29:33] Multiple instances of codecarbon are allowed to run at the same time.\n",
            "[codecarbon INFO @ 17:29:33] [setup] RAM Tracking...\n",
            "[codecarbon INFO @ 17:29:33] [setup] CPU Tracking...\n"
          ]
        },
        {
          "output_type": "stream",
          "name": "stdout",
          "text": [
            "\n",
            "🚀 Epoch 5...\n"
          ]
        },
        {
          "output_type": "stream",
          "name": "stderr",
          "text": [
            "[codecarbon WARNING @ 17:29:34] We saw that you have a Intel(R) Xeon(R) CPU @ 2.00GHz but we don't know it. Please contact us.\n",
            "[codecarbon WARNING @ 17:29:34] No CPU tracking mode found. Falling back on estimation based on TDP for CPU. \n",
            " Linux OS detected: Please ensure RAPL files exist at /sys/class/powercap/intel-rapl/subsystem to measure CPU\n",
            "\n",
            "[codecarbon INFO @ 17:29:34] CPU Model on constant consumption mode: Intel(R) Xeon(R) CPU @ 2.00GHz\n",
            "[codecarbon WARNING @ 17:29:34] No CPU tracking mode found. Falling back on CPU constant mode.\n",
            "[codecarbon INFO @ 17:29:34] [setup] GPU Tracking...\n",
            "[codecarbon INFO @ 17:29:34] Tracking Nvidia GPU via pynvml\n",
            "[codecarbon INFO @ 17:29:34] The below tracking methods have been set up:\n",
            "                RAM Tracking Method: RAM power estimation model\n",
            "                CPU Tracking Method: global constant\n",
            "                GPU Tracking Method: pynvml\n",
            "            \n",
            "[codecarbon INFO @ 17:29:34] >>> Tracker's metadata:\n",
            "[codecarbon INFO @ 17:29:34]   Platform system: Linux-6.6.105+-x86_64-with-glibc2.35\n",
            "[codecarbon INFO @ 17:29:34]   Python version: 3.12.12\n",
            "[codecarbon INFO @ 17:29:34]   CodeCarbon version: 3.0.7\n",
            "[codecarbon INFO @ 17:29:34]   Available RAM : 12.671 GB\n",
            "[codecarbon INFO @ 17:29:34]   CPU count: 2 thread(s) in 1 physical CPU(s)\n",
            "[codecarbon INFO @ 17:29:34]   CPU model: Intel(R) Xeon(R) CPU @ 2.00GHz\n",
            "[codecarbon INFO @ 17:29:34]   GPU count: 1\n",
            "[codecarbon INFO @ 17:29:34]   GPU model: 1 x Tesla T4\n",
            "[codecarbon INFO @ 17:29:34] Emissions data (if any) will be saved to file /content/results/emissions.csv\n",
            "[codecarbon INFO @ 17:29:40] Energy consumed for RAM : 0.000015 kWh. RAM Power : 10.0 W\n",
            "[codecarbon INFO @ 17:29:40] Delta energy consumed for CPU with constant : 0.000065 kWh, power : 42.5 W\n",
            "[codecarbon INFO @ 17:29:40] Energy consumed for All CPU : 0.000065 kWh\n",
            "[codecarbon INFO @ 17:29:40] Energy consumed for all GPUs : 0.000106 kWh. Total GPU Power : 69.36100180326397 W\n",
            "[codecarbon INFO @ 17:29:40] 0.000186 kWh of electricity used since the beginning.\n"
          ]
        },
        {
          "output_type": "stream",
          "name": "stdout",
          "text": [
            "\n",
            "✅ Baseline experiment complete. Results saved to: /content/results/baseline_results.csv\n"
          ]
        }
      ]
    }
  ]
}